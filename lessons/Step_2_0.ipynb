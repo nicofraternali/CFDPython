{
 "cells": [
  {
   "cell_type": "markdown",
   "metadata": {},
   "source": [
    "---\n",
    "\n",
    "<center>\n",
    "\n",
    "# **12 Steps to Navier-Stokes**\n",
    "\n",
    "<center>\n",
    "\n",
    "---\n"
   ]
  },
  {
   "cell_type": "markdown",
   "metadata": {},
   "source": [
    "## Step 2.0: 1D Non-Linear Convection\n",
    "\n",
    "---"
   ]
  },
  {
   "cell_type": "markdown",
   "metadata": {},
   "source": [
    "In this step we introduce **non-linearity** by allowing the wave speed to be $u$, not constant $c$. This radically changes the behaviour of the wave. Following the example from Step 1, if $u$ is higher in one region (e.g $u=2$) than another (e.g $u=1$) the faster region can catch up the slower one, deforming the wave.\n",
    "\n",
    "The non-linear convection equation\n",
    "\n",
    "$$\\frac{\\partial u}{\\partial t} + u \\frac{\\partial u}{\\partial x} = 0$$\n",
    "\n",
    "Following the Finite Differences method, the discretized equation becomes\n",
    "\n",
    "$$\\frac{u_i^{n+1}-u_i^n}{\\Delta t} + u_i^n \\frac{u_i^n-u_{i-1}^n}{\\Delta x} = 0$$\n",
    "\n",
    "Solving for the only unknown term, $u_i^{n+1}$, yields:\n",
    "\n",
    "$$u_i^{n+1} = u_i^n - u_i^n \\frac{\\Delta t}{\\Delta x} (u_i^n - u_{i-1}^n)$$"
   ]
  },
  {
   "cell_type": "code",
   "execution_count": 16,
   "metadata": {},
   "outputs": [],
   "source": [
    "import numpy as np\n",
    "import matplotlib.pyplot as plt\n",
    "import time, sys\n",
    "import matplotlib.animation as animation\n",
    "from matplotlib.animation import PillowWriter"
   ]
  },
  {
   "cell_type": "code",
   "execution_count": 55,
   "metadata": {},
   "outputs": [],
   "source": [
    "grid_points = 151                              # Number of grid points\n",
    "grid_length = 5                                # Lenght of the grid\n",
    "dx = grid_length / (grid_points - 1)           # Distance between adjacent grid points\n",
    "time_steps = 301                               # Number of time steps\n",
    "dt = 0.0083                                    # Size of time steps\n",
    "\n",
    "u = np.ones(grid_points)\n",
    "u[int(0.5 / dx) : int((1 / dx) + 1)] = 2\n",
    "u_n = u_n = np.ones(grid_points)\n",
    "\n",
    "x = np.linspace(0, grid_length, grid_points)"
   ]
  },
  {
   "cell_type": "code",
   "execution_count": 56,
   "metadata": {},
   "outputs": [
    {
     "data": {
      "text/plain": [
       "(0.0, 5.0)"
      ]
     },
     "execution_count": 56,
     "metadata": {},
     "output_type": "execute_result"
    },
    {
     "data": {
      "image/png": "[encoded data removed]",
      "text/plain": [
       "<Figure size 640x480 with 1 Axes>"
      ]
     },
     "metadata": {},
     "output_type": "display_data"
    }
   ],
   "source": [
    "for n in range(time_steps):\n",
    "    u_n = u.copy()\n",
    "    for i in range(1, grid_points):\n",
    "        u[i] = u_n[i] - u_n[i] * (dt / dx) * (u_n[i] - u_n[i-1])\n",
    "\n",
    "fig, ax1 = plt.subplots()\n",
    "ax1.plot(x, u_n)\n",
    "ax1.set_title(r'1D Non-Linear Convection ($t=2.5$)')\n",
    "ax1.set_xlabel(\"x\")\n",
    "ax1.set_ylabel(\"u\")\n",
    "ax1.set_ylim(0.9, 2.5)\n",
    "ax1.set_xlim(0, grid_length)"
   ]
  },
  {
   "cell_type": "markdown",
   "metadata": {},
   "source": [
    "A first sight comparison between this output and the one in Step 1 is that the curve seems to have convected a lot faster this time, let's unveil what happens with the animation"
   ]
  },
  {
   "cell_type": "code",
   "execution_count": 57,
   "metadata": {},
   "outputs": [
    {
     "name": "stdout",
     "output_type": "stream",
     "text": [
      "0.249\n"
     ]
    }
   ],
   "source": [
    "plt.ioff()\n",
    "\n",
    "fig, ax2 = plt.subplots()\n",
    "fig.set_size_inches(6, 5)\n",
    "ax2.set_title(r'1D Non-Linear Convection (from $t=0$ to $t=2.5$)', fontsize = 12)\n",
    "ax2.set_xlabel(\"x\", fontsize=12)\n",
    "ax2.set_ylabel(\"u\", fontsize=12)\n",
    "ax2.set_ylim(0.9, 2.5)\n",
    "ax2.set_xlim(0, grid_length)\n",
    "ax2.grid(True, linestyle='--', alpha=0.3)\n",
    "\n",
    "line, = ax2.plot([], [], color='#008080', lw=2)\n",
    "\n",
    "u = np.ones(grid_points)\n",
    "u[int(0.5 / dx) : int((1 / dx) + 1)] = 2\n",
    "\n",
    "def init():\n",
    "    line.set_data([], [])\n",
    "    return line,\n",
    "\n",
    "def update_anim(j):\n",
    "    u_n = u.copy()\n",
    "    for i in range(1, grid_points):\n",
    "        u[i] = u_n[i] - u_n[i] * (dt / dx) * (u_n[i] - u_n[i-1])\n",
    "    line.set_data(x, u)\n",
    "    return line,\n",
    "\n",
    "anim = animation.FuncAnimation(\n",
    "                fig = fig,\n",
    "                func = update_anim,\n",
    "                init_func = init,\n",
    "                frames = time_steps,\n",
    "                interval = 50,\n",
    "                blit = True\n",
    ")\n",
    "\n",
    "anim.save('1D_non_linear_convection.mp4', writer=animation.FFMpegWriter(fps=30))\n",
    "\n",
    "plt.ion()\n",
    "\n",
    "print(dt/dx)"
   ]
  },
  {
   "cell_type": "markdown",
   "metadata": {},
   "source": [
    "It can be seen from the animation that the waves catches up the slower region and the wave deforms, it gets steeper and forms a wave front.\n",
    "\n",
    "Notice that when `grid_points = 151` the Python shell returns two errors:\n",
    "\n",
    "* `RuntimeWarning: overflow encountered in scalar multiply`\n",
    "* `RuntimeWarning: overflow encountered in scalar addition`\n",
    "\n",
    "This suggests that the numerical solution is blowing up, leading to values too large for Python’s NumPy to handle (typically exceeding the floating-point limit, like $10^{308}$ for `float64`).\n",
    "\n",
    "These overflow warnings occur when the finite difference scheme produces unreasonably large numbers, often due to numerical instability, more on that in **Step 2.1**"
   ]
  }
 ],
 "metadata": {
  "kernelspec": {
   "display_name": "Python 3",
   "language": "python",
   "name": "python3"
  },
  "language_info": {
   "codemirror_mode": {
    "name": "ipython",
    "version": 3
   },
   "file_extension": ".py",
   "mimetype": "text/x-python",
   "name": "python",
   "nbconvert_exporter": "python",
   "pygments_lexer": "ipython3",
   "version": "3.12.6"
  }
 },
 "nbformat": 4,
 "nbformat_minor": 2
}
