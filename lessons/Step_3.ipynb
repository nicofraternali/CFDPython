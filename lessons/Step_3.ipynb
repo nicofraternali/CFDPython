{
 "cells": [
  {
   "cell_type": "markdown",
   "metadata": {},
   "source": [
    "---\n",
    "\n",
    "<center>\n",
    "\n",
    "# **12 Steps to Navier-Stokes**\n",
    "\n",
    "<center>\n",
    "\n",
    "---\n"
   ]
  },
  {
   "cell_type": "markdown",
   "metadata": {},
   "source": [
    "## Step 3: Diffusion Equation in 1D\n",
    "\n",
    "---"
   ]
  },
  {
   "cell_type": "markdown",
   "metadata": {},
   "source": [
    "**Diffusion is about spreading** or smoothing, picture a drop of ink in water: over time it disperses evenly due to stochastic molecular motion or viscous effects, the equation\n",
    "\n",
    "$$\\frac{\\partial u}{\\partial t}= \\nu \\frac{\\partial^2 u}{\\partial x^2}$$\n",
    "\n",
    "The first thing you should notice is that —unlike the previous two simple equations we have studied— this equation has a second-order derivative. We first need to learn what to do with it!"
   ]
  },
  {
   "cell_type": "markdown",
   "metadata": {},
   "source": [
    "### Discretizing $\\frac{\\partial^2 u}{\\partial x^2}$\n",
    "\n",
    "Geometrically speaking the second derivative can be thought as the tangent to the curve given by the first derivative. We will discretize the second derivative using the **Central difference**, a combination of Forward and Backward difference.\n",
    "\n",
    "First, consider the **Taylor expansion** of $u_{i+1}$ and $u_{i-1}$ around $u_i$\n",
    "\n",
    "$$u_{i+1} = u_i + \\Delta x \\frac{\\partial u}{\\partial x}\\bigg|_i + \\frac{\\Delta x^2}{2} \\frac{\\partial ^2 u}{\\partial x^2}\\bigg|_i + \\frac{\\Delta x^3}{3!} \\frac{\\partial ^3 u}{\\partial x^3}\\bigg|_i + O(\\Delta x^4)$$\n",
    "\n",
    "$$u_{i-1} = u_i - \\Delta x \\frac{\\partial u}{\\partial x}\\bigg|_i + \\frac{\\Delta x^2}{2} \\frac{\\partial ^2 u}{\\partial x^2}\\bigg|_i - \\frac{\\Delta x^3}{3!} \\frac{\\partial ^3 u}{\\partial x^3}\\bigg|_i + O(\\Delta x^4)$$\n",
    "\n",
    "Notice that adding those two expansions the odd-numbered derivative terms cancel each other out. Then neglecting the higher order terms ($O(4)$ and so on) then we can rearrange the sum to solve for the second derivative\n",
    "\n",
    "$$\\frac{\\partial ^2 u}{\\partial x^2}=\\frac{u_{i+1}-2u_{i}+u_{i-1}}{\\Delta x^2} + O(\\Delta x^2)$$"
   ]
  },
  {
   "cell_type": "markdown",
   "metadata": {},
   "source": [
    "### Back to Step 3\n",
    "\n",
    "Now we are in conditions to write our discretized diffusion equation in 1D\n",
    "\n",
    "$$\\frac{u_{i}^{n+1}-u_{i}^{n}}{\\Delta t}=\\nu\\frac{u_{i+1}^{n}-2u_{i}^{n}+u_{i-1}^{n}}{\\Delta x^2}$$\n",
    "\n",
    "As before, we notice that once we have an initial condition, the only unknown is $u_{i}^{n+1}$, so we re-arrange the equation solving for our unknown:\n",
    "\n",
    "$$u_{i}^{n+1}=u_{i}^{n}+\\frac{\\nu\\Delta t}{\\Delta x^2}(u_{i+1}^{n}-2u_{i}^{n}+u_{i-1}^{n})$$\n",
    "\n",
    "The above discrete equation allows us to write a program to advance a solution in time. But we need an initial condition. Let's continue using our favorite: the hat function. So, at $t=0$, $u=2$ in the interval $0.5\\le x\\le 1$ and $u=1$ everywhere else."
   ]
  },
  {
   "cell_type": "code",
   "execution_count": 46,
   "metadata": {},
   "outputs": [],
   "source": [
    "import numpy as np\n",
    "import matplotlib.pyplot as plt\n",
    "import time, sys\n",
    "import matplotlib.animation as animation\n",
    "from matplotlib.animation import PillowWriter"
   ]
  },
  {
   "cell_type": "code",
   "execution_count": 88,
   "metadata": {},
   "outputs": [],
   "source": [
    "grid_points = 151                              # Number of grid points\n",
    "grid_length = 5                                # Lenght of the grid\n",
    "dx = grid_length / (grid_points - 1)           # Distance between adjacent grid points\n",
    "time_steps = 301                               # Number of time steps\n",
    "sigma = 0.25                                   # CFL number\n",
    "dt = sigma * (dx**2 / nu)                               # Size of time steps\n",
    "nu = 0.3                                       # Diffusion coefficient\n",
    "\n",
    "u = np.ones(grid_points)\n",
    "u[int(0.5 / dx) : int((1 / dx) + 1)] = 2\n",
    "u_n = u_n = np.ones(grid_points)\n",
    "\n",
    "x = np.linspace(0, grid_length, grid_points)"
   ]
  },
  {
   "cell_type": "code",
   "execution_count": 89,
   "metadata": {},
   "outputs": [
    {
     "data": {
      "text/plain": [
       "(-0.1, 2.0)"
      ]
     },
     "execution_count": 89,
     "metadata": {},
     "output_type": "execute_result"
    },
    {
     "data": {
      "image/png": "[encoded data removed]",
      "text/plain": [
       "<Figure size 640x480 with 1 Axes>"
      ]
     },
     "metadata": {},
     "output_type": "display_data"
    }
   ],
   "source": [
    "fig, ax1 = plt.subplots()\n",
    "ax1.plot(x, u, c='orange', linestyle='--', lw=2)\n",
    "\n",
    "for n in range(time_steps):\n",
    "    u_n = u.copy()\n",
    "    for i in range(1, grid_points-1):\n",
    "        u[i] = u_n[i] + nu * (dt / (dx ** 2)) * (u_n[i+1] - 2*u_n[i] + u_n[i-1])\n",
    "\n",
    "# fig, ax1 = plt.subplots()\n",
    "ax1.plot(x, u_n, color='#008080', lw=2)\n",
    "ax1.set_title(rf'1D Diffusion ($t={time_steps*dt:.2f}$)')\n",
    "ax1.set_xlabel(\"x\")\n",
    "ax1.set_ylabel(\"u\")\n",
    "ax1.set_ylim(0.9, 2.5)\n",
    "ax1.set_xlim(-0.1, 2)\n"
   ]
  },
  {
   "cell_type": "markdown",
   "metadata": {},
   "source": [
    "It can easily be seen that the initial conditions, the hat function, diffused over time. The characteristics of the equation smoothens sharp edges and tends to equilibrium.\n",
    "\n",
    "Now, the animation"
   ]
  },
  {
   "cell_type": "code",
   "execution_count": 73,
   "metadata": {},
   "outputs": [
    {
     "data": {
      "text/plain": [
       "<contextlib.ExitStack at 0x24edb6190d0>"
      ]
     },
     "execution_count": 73,
     "metadata": {},
     "output_type": "execute_result"
    }
   ],
   "source": [
    "plt.ioff()\n",
    "\n",
    "fig, ax2 = plt.subplots()\n",
    "fig.set_size_inches(6, 5)\n",
    "ax2.set_title(rf'1D Diffusion (from $t=0$ to $t={time_steps*dt:.2f}$)', fontsize = 12)\n",
    "ax2.set_xlabel(\"x\", fontsize=12)\n",
    "ax2.set_ylabel(\"u\", fontsize=12)\n",
    "ax2.set_ylim(0.9, 2.5)\n",
    "ax2.set_xlim(-0.1, 2)\n",
    "ax2.grid(True, linestyle='--', alpha=0.3)\n",
    "\n",
    "line, = ax2.plot([], [], color='#008080', lw=2)\n",
    "\n",
    "u = np.ones(grid_points)\n",
    "u[int(0.5 / dx) : int((1 / dx) + 1)] = 2\n",
    "\n",
    "def init():\n",
    "    line.set_data([], [])\n",
    "    return line,\n",
    "\n",
    "def update_anim(j):\n",
    "    u_n = u.copy()\n",
    "    for i in range(1, grid_points-1):\n",
    "        u[i] = u_n[i] + nu * (dt / (dx ** 2)) * (u_n[i+1] - 2*u_n[i] + u_n[i-1])\n",
    "    line.set_data(x, u)\n",
    "    return line,\n",
    "\n",
    "anim = animation.FuncAnimation(\n",
    "                fig = fig,\n",
    "                func = update_anim,\n",
    "                init_func = init,\n",
    "                frames = time_steps,\n",
    "                interval = 50,\n",
    "                blit = True\n",
    ")\n",
    "\n",
    "anim.save('1D_diffusion.mp4', writer=animation.FFMpegWriter(fps=30))\n",
    "\n",
    "plt.ion()"
   ]
  },
  {
   "cell_type": "markdown",
   "metadata": {},
   "source": [
    "One last note, an insight related to the difference between convection behaviour and diffusion can be obtained via analyzing the iteration loop to compute `u`. Notice `for i in range(1, grid_points-1):`, here we do not iterate over the last grid point for two reasons:\n",
    "\n",
    "* `u[i] = u_n[i] + nu * (dt / (dx ** 2)) * (u_n[i+1] - 2*u_n[i] + u_n[i-1])` $\\rightarrow i+1$ does not exist inside the grid, raises error\n",
    "* Diffusion is a closed system with closed ends, i.e IC's.\n",
    "\n",
    "It is easier to understand it following the latter one, in convection the wave traveled from left to right, for that very reason the right-most IC's was not defined because it lacks importance in this problem and the end point can be updated with no problem."
   ]
  }
 ],
 "metadata": {
  "kernelspec": {
   "display_name": "Python 3",
   "language": "python",
   "name": "python3"
  },
  "language_info": {
   "name": "python",
   "version": "3.12.6"
  }
 },
 "nbformat": 4,
 "nbformat_minor": 2
}
