{
 "cells": [
  {
   "cell_type": "markdown",
   "metadata": {},
   "source": [
    "---\n",
    "\n",
    "<center>\n",
    "\n",
    "# **12 Steps to Navier-Stokes**\n",
    "\n",
    "<center>\n",
    "\n",
    "---\n"
   ]
  },
  {
   "cell_type": "markdown",
   "metadata": {},
   "source": [
    "## Step 2.1: Convergence and the CFL Condition\n",
    "\n",
    "---"
   ]
  },
  {
   "cell_type": "markdown",
   "metadata": {},
   "source": [
    "In **Step 2.0** we encountered a problem with the solution blowing up, so what happened?\n",
    "\n",
    "In each iteration of our time loop, we use existing data to estimate the speed of the wave in the subsequent time step. Initially an increase in `grid_points` returned more accurate responses. There was less numerical diffusion and the wave looked much more smooth and credible.\n",
    "\n",
    "What happened is that over a period of time $\\Delta t$, the wave travelled a distance greater than `dx`. The lenght `dx` of each grid box is related to the number of total points (`grid_points`), so stability can be enforced if the time step size is calculated with respect of `dx`\n",
    "\n",
    "$$\\sigma = \\frac{u \\Delta t}{\\Delta x} \\leq \\sigma_{\\max}$$\n",
    "\n",
    "where $u$ is the speed of the wave; $\\sigma$ is called the **Courant number** and the value of $\\sigma_{\\max}$ that will ensure stability depends on the discretization used. \n",
    "\n",
    "Let's copy the code used in **Step 2.0** and use the **Courant number** or **CFL** (Courant-Friedrichs-Lewy) to calculate the appropiate time step `dt`"
   ]
  },
  {
   "cell_type": "code",
   "execution_count": 2,
   "metadata": {},
   "outputs": [],
   "source": [
    "import numpy as np\n",
    "import matplotlib.pyplot as plt\n",
    "import time, sys\n",
    "import matplotlib.animation as animation\n",
    "from matplotlib.animation import PillowWriter"
   ]
  },
  {
   "cell_type": "code",
   "execution_count": 44,
   "metadata": {},
   "outputs": [],
   "source": [
    "grid_points = 150                              # Number of grid points\n",
    "grid_length = 5                                # Lenght of the grid\n",
    "dx = grid_length / (grid_points - 1)           # Distance between adjacent grid points\n",
    "time_steps = 301                               # Number of time steps\n",
    "sigma = 0.25                                   # CFL number\n",
    "dt = sigma * dx                                # Size of time steps\n",
    "\n",
    "u = np.ones(grid_points)\n",
    "u[int(0.5 / dx) : int((1 / dx) + 1)] = 2\n",
    "u_n = u_n = np.ones(grid_points)\n",
    "\n",
    "x = np.linspace(0, grid_length, grid_points)"
   ]
  },
  {
   "cell_type": "code",
   "execution_count": null,
   "metadata": {},
   "outputs": [
    {
     "name": "stderr",
     "output_type": "stream",
     "text": [
      "C:\\Users\\nfrat\\AppData\\Local\\Temp\\ipykernel_3544\\2560045595.py:3: RuntimeWarning: More than 20 figures have been opened. Figures created through the pyplot interface (`matplotlib.pyplot.figure`) are retained until explicitly closed and may consume too much memory. (To control this warning, see the rcParam `figure.max_open_warning`). Consider using `matplotlib.pyplot.close()`.\n",
      "  fig, ax2 = plt.subplots()\n"
     ]
    },
    {
     "name": "stdout",
     "output_type": "stream",
     "text": [
      "0.008389261744966443 0.25\n"
     ]
    }
   ],
   "source": [
    "plt.ioff()\n",
    "\n",
    "fig, ax2 = plt.subplots()\n",
    "fig.set_size_inches(6, 5)\n",
    "ax2.set_title(rf'1D Non-Linear Convection (from $t=0$ to $t={time_steps*dt:.2f}$)', fontsize = 12)\n",
    "ax2.set_xlabel(\"x\", fontsize=12)\n",
    "ax2.set_ylabel(\"u\", fontsize=12)\n",
    "ax2.set_ylim(0.9, 2.5)\n",
    "ax2.set_xlim(0, grid_length)\n",
    "ax2.grid(True, linestyle='--', alpha=0.3)\n",
    "\n",
    "line, = ax2.plot([], [],    )\n",
    "\n",
    "u = np.ones(grid_points)\n",
    "u[int(0.5 / dx) : int((1 / dx) + 1)] = 2\n",
    "\n",
    "def init():\n",
    "    line.set_data([], [])\n",
    "    return line,\n",
    "\n",
    "def update_anim(j):\n",
    "    u_n = u.copy()\n",
    "    for i in range(1, grid_points):\n",
    "        u[i] = u_n[i] - u_n[i] * (dt / dx) * (u_n[i] - u_n[i-1])\n",
    "    line.set_data(x, u)\n",
    "    return line,\n",
    "\n",
    "anim = animation.FuncAnimation(\n",
    "                fig = fig,\n",
    "                func = update_anim,\n",
    "                init_func = init,\n",
    "                frames = time_steps,\n",
    "                interval = 50,\n",
    "                blit = True\n",
    ")\n",
    "\n",
    "anim.save('1D_CFL_non_linear_convection.mp4', writer=animation.FFMpegWriter(fps=30))\n",
    "\n",
    "plt.ion()\n",
    "\n",
    "print(dt, sigma)"
   ]
  }
 ],
 "metadata": {
  "kernelspec": {
   "display_name": "Python 3",
   "language": "python",
   "name": "python3"
  },
  "language_info": {
   "codemirror_mode": {
    "name": "ipython",
    "version": 3
   },
   "file_extension": ".py",
   "mimetype": "text/x-python",
   "name": "python",
   "nbconvert_exporter": "python",
   "pygments_lexer": "ipython3",
   "version": "3.12.6"
  }
 },
 "nbformat": 4,
 "nbformat_minor": 2
}
